{
 "cells": [
  {
   "cell_type": "markdown",
   "id": "e4cdbd4d",
   "metadata": {},
   "source": [
    "* Question 2\n",
    "\n",
    "* Generate random Password with exact length = 6, with minimum 1 uppercase, 2 lowercase, 2 digits, and remaining special characters.Using these packages [random, strings]"
   ]
  },
  {
   "cell_type": "code",
   "execution_count": 58,
   "id": "a952ce66",
   "metadata": {},
   "outputs": [
    {
     "name": "stdout",
     "output_type": "stream",
     "text": [
      "Generated Password:  5pi=6H\n"
     ]
    }
   ],
   "source": [
    "import random\n",
    "import string\n",
    "def generate_password(length):\n",
    "    oneuppercase = random.choices(string.ascii_uppercase, k=1)\n",
    "    twolowercase= random.choices(string.ascii_lowercase, k=2)\n",
    "    twodigits=random.choices(string.digits, k=2)\n",
    "    special=random.choices(string.punctuation, k=1)\n",
    "    password = \"\".join(\n",
    "        random.sample(oneuppercase + twolowercase+twodigits+special, k=length)\n",
    "    )\n",
    "\n",
    "    return password\n",
    "\n",
    "\n",
    "print(\"Generated Password: \" ,generate_password(6))"
   ]
  },
  {
   "cell_type": "markdown",
   "id": "36a68761",
   "metadata": {},
   "source": [
    "* Question 3\n",
    "* Create 2D array and update the same 2D array provided that every  prime number position should be replaced by cube of the positioned number"
   ]
  },
  {
   "cell_type": "code",
   "execution_count": 5,
   "id": "75e01ac5",
   "metadata": {},
   "outputs": [],
   "source": [
    "import numpy as np\n",
    "\n",
    "from primePy import primes\n",
    "\n",
    "def board():\n",
    "    list1=[i for i in range(12)]\n",
    "    for i in list1:\n",
    "        if primes.check(i)==True and i!=1:\n",
    "            list1[i]=list1[i]**3\n",
    "    arr=np.array(list1).reshape(3,4)\n",
    "    return arr\n",
    "        \n",
    "      \n"
   ]
  },
  {
   "cell_type": "markdown",
   "id": "3ea53203",
   "metadata": {},
   "source": [
    "* Question 4\n",
    "* Python program to get the sum of every cubed value and its previous integer."
   ]
  },
  {
   "cell_type": "code",
   "execution_count": 152,
   "id": "0cfc76cc",
   "metadata": {},
   "outputs": [],
   "source": [
    "def check_list(input,rows,columns):\n",
    "    new_input=[]\n",
    "    for i,j in enumerate(input):\n",
    "        if check_cube(j)==True:\n",
    "            new_input.insert(i,j+input[i-1])\n",
    "        else:\n",
    "            new_input.insert(i,input[i])\n",
    "    return np.array(new_input).reshape(rows,columns)\n",
    "def check_cube(inp):\n",
    "    count=0\n",
    "    for i in range(inp):\n",
    "        new=i*i*i\n",
    "        if new==inp:\n",
    "            return True\n",
    "            count=1\n",
    "            break\n",
    "    if count==0:\n",
    "        return False\n",
    "    \n",
    "            "
   ]
  },
  {
   "cell_type": "code",
   "execution_count": 153,
   "id": "e59b28d1",
   "metadata": {},
   "outputs": [
    {
     "name": "stdout",
     "output_type": "stream",
     "text": [
      "Enter the no of rows: 2\n",
      "Enter the no of columns3\n",
      "Enter the elements: 0\n",
      "Enter the elements: 1\n",
      "Enter the elements: 8\n",
      "Enter the elements: 27\n",
      "Enter the elements: 4\n",
      "Enter the elements: 125\n"
     ]
    },
    {
     "data": {
      "text/plain": [
       "array([[  0,   1,   9],\n",
       "       [ 35,   4, 129]])"
      ]
     },
     "execution_count": 153,
     "metadata": {},
     "output_type": "execute_result"
    }
   ],
   "source": [
    "rows=int(input(\"Enter the no of rows: \"))\n",
    "columns=int(input(\"Enter the no of columns\"))\n",
    "elements=rows*columns\n",
    "list2=[]\n",
    "for i in range(elements):\n",
    "    list2.append(int(input(\"Enter the elements: \")))\n",
    "check_list(list2,rows,columns)"
   ]
  },
  {
   "cell_type": "markdown",
   "id": "71b488a4",
   "metadata": {},
   "source": [
    "###### *Given two arrays, find their intersection. Examples:\n",
    "Input:  arr1[] = [1, 3, 4, 5, 7] arr2[] = [2, 3, 5, 6]"
   ]
  },
  {
   "cell_type": "code",
   "execution_count": 158,
   "id": "36a4a772",
   "metadata": {},
   "outputs": [
    {
     "name": "stdout",
     "output_type": "stream",
     "text": [
      " Intersected array:  [3 5]\n"
     ]
    }
   ],
   "source": [
    "\n",
    "arr1=np.array([1, 3, 4, 5, 7] )\n",
    "arr2=np.array([2, 3, 5, 6])\n",
    "              \n",
    "print(\" Intersected array: \",np.intersect1d(arr1,arr2))\n"
   ]
  },
  {
   "cell_type": "markdown",
   "id": "c5cfcb1c",
   "metadata": {},
   "source": [
    "*Question\n",
    " \n",
    "* Create a 7 x 7  2D array having only multiples of 7. And return the last  element of the same"
   ]
  },
  {
   "cell_type": "code",
   "execution_count": 9,
   "id": "26563f54",
   "metadata": {},
   "outputs": [
    {
     "name": "stdout",
     "output_type": "stream",
     "text": [
      "[[  7  14  21  28  35  42  49]\n",
      " [ 56  63  70  77  84  91  98]\n",
      " [105 112 119 126 133 140 147]\n",
      " [154 161 168 175 182 189 196]\n",
      " [203 210 217 224 231 238 245]\n",
      " [252 259 266 273 280 287 294]\n",
      " [301 308 315 322 329 336 343]]\n",
      "Last element of the array is:  343\n"
     ]
    }
   ],
   "source": [
    "\n",
    "sevend=np.array([i for i in range(7,350,7)]).reshape(7,7)\n",
    "print(sevend)\n",
    "print(\"Last element of the array is: \",sevend[-1,-1])"
   ]
  },
  {
   "cell_type": "raw",
   "id": "4c3bc2a9",
   "metadata": {},
   "source": [
    "Checker Board Patten using Numpy:\n",
    "[   1   0   1   0   1   0   1\n",
    "    0   1   0   1   0   1   0\n",
    "    1   0   1   0   1   0   1\n",
    "    0   1   0   1   0   1   0\n",
    "    1   0   1   0   1   0   1  ]"
   ]
  },
  {
   "cell_type": "code",
   "execution_count": 20,
   "id": "8a57a3c9",
   "metadata": {},
   "outputs": [
    {
     "data": {
      "text/plain": [
       "array([[1., 0., 1., 0., 1., 0., 1.],\n",
       "       [0., 1., 0., 1., 0., 1., 0.],\n",
       "       [1., 0., 1., 0., 1., 0., 1.],\n",
       "       [0., 1., 0., 1., 0., 1., 0.],\n",
       "       [1., 0., 1., 0., 1., 0., 1.]])"
      ]
     },
     "execution_count": 20,
     "metadata": {},
     "output_type": "execute_result"
    }
   ],
   "source": [
    "checker=np.zeros(35).reshape(5,7)\n",
    "checker[::2,::2]=1\n",
    "checker[1::2,1::2]=1\n",
    "checker"
   ]
  },
  {
   "cell_type": "raw",
   "id": "a9dd2265",
   "metadata": {},
   "source": [
    "Create a given Matrix:\n",
    "[  A,     B,     C,       D\n",
    "   E,      F,     G,       H\n",
    "    I,      a,      K,       L\n",
    "   M,    N,     o,       P\n",
    "   Q,     R,      S,       T\n",
    "   U,     0,     W,      O ]\n",
    "Replace all the vowels by np.nan\n",
    "A, E, I, O U  -- >  np.nan\n",
    "Return the count of the missing values"
   ]
  },
  {
   "cell_type": "code",
   "execution_count": 54,
   "id": "664456b0",
   "metadata": {},
   "outputs": [
    {
     "name": "stdout",
     "output_type": "stream",
     "text": [
      "[['nan' 'B' 'C' 'D']\n",
      " ['nan' 'F' 'G' 'H']\n",
      " ['nan' 'nan' 'K' 'L']\n",
      " ['M' 'N' 'nan' 'P']\n",
      " ['Q' 'R' 'S' 'T']\n",
      " ['nan' '0' 'W' 'nan']]\n",
      "Null values: 7\n"
     ]
    }
   ],
   "source": [
    "new_list=['A','B','C','D','E','F','G','H','I','a','K','L','M','N','o','P','Q','R','S','T','U','0','W','O']\n",
    "for i,j in enumerate(new_list):\n",
    "    if j.lower() in ['a','e','i','o','u']:\n",
    "        new_list[i]=np.nan\n",
    "array_1=np.array(new_list).reshape(6,4)\n",
    "null_count=0\n",
    "for i in range(6):\n",
    "    for j in range(4):\n",
    "        if array_1[i][j]=='nan':\n",
    "            null_count+=1\n",
    "print(array_1)\n",
    "print(\"Null values:\",null_count)\n"
   ]
  },
  {
   "cell_type": "raw",
   "id": "afb29dbd",
   "metadata": {},
   "source": [
    "Create a python program to find duplicate files by content. User will \n",
    "input path and it will scan all directories, sub-directories to find all \n",
    "duplicates files.\n",
    "Delete the found duplicate file.\n",
    "[Hint: use hashlib]"
   ]
  },
  {
   "cell_type": "code",
   "execution_count": 55,
   "id": "d6bc2b25",
   "metadata": {},
   "outputs": [],
   "source": [
    "import os\n",
    "import hashlib\n",
    "from pathlib import Path\n",
    "def find_duplicate(path):\n",
    "    list_of_files = os.walk(path)\n",
    "    unique_files=dict()\n",
    "    for root,folder,files in list_of_files:\n",
    "        for file in files:\n",
    "            file_path = Path(os.path.join(root, file))\n",
    "            Hash_file = hashlib.md5(open(file_path, 'rb').read()).hexdigest()\n",
    "            if Hash_file not in unique_files:\n",
    "                unique_files[Hash_file] = file_path\n",
    "            else:\n",
    "                print(\"Duplicate file: \",file)\n",
    "                os.remove(file_path)\n",
    "                print(f\"{file_path} has been deleted\")\n",
    "    \n",
    "\n",
    "    "
   ]
  },
  {
   "cell_type": "code",
   "execution_count": 56,
   "id": "b6103c0f",
   "metadata": {},
   "outputs": [
    {
     "name": "stdout",
     "output_type": "stream",
     "text": [
      "Duplicate file:  dupfile.txt\n",
      "D:\\test\\test1\\dupfile.txt has been deleted\n"
     ]
    }
   ],
   "source": [
    "find_duplicate('D:/test/')"
   ]
  },
  {
   "cell_type": "code",
   "execution_count": null,
   "id": "da32072c",
   "metadata": {},
   "outputs": [],
   "source": []
  }
 ],
 "metadata": {
  "kernelspec": {
   "display_name": "Python 3 (ipykernel)",
   "language": "python",
   "name": "python3"
  },
  "language_info": {
   "codemirror_mode": {
    "name": "ipython",
    "version": 3
   },
   "file_extension": ".py",
   "mimetype": "text/x-python",
   "name": "python",
   "nbconvert_exporter": "python",
   "pygments_lexer": "ipython3",
   "version": "3.9.13"
  }
 },
 "nbformat": 4,
 "nbformat_minor": 5
}
